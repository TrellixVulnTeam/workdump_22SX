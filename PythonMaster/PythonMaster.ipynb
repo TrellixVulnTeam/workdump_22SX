{
 "cells": [
  {
   "cell_type": "markdown",
   "metadata": {},
   "source": [
    "- Main reference: Python Fundamentals by Austin Bingham & Robert Smallshire\n",
    "\n",
    "# Table of Contents\n",
    "1. [Setup](#Setup)\n",
    "2. [Python Primer](#Python-Primer)\n",
    "    1. [Python's Language](#Python's-Language)\n",
    "    2. [Python's Philosophy](#Python's-Philosophy)\n",
    "3. [The Standard Python Environment](#The-Standard-Python-Environment)\n",
    "    1. [The REPL](#The-REPL)\n",
    "    2. [Compound Statements and Comments](#Compound-Statements-and-Comments)\n",
    "    3. [No Red Tape](#No-Red-Tape)\n",
    "4. [Data Model](#Data-Model)\n",
    "    1. [Binding Objects](#Binding-Objects)\n",
    "    2. [Operations on Bindings](#Operations-on-Bindings)\n",
    "5. [Imported Objects](#Imported-Objects)\n",
    "    1. [Binding Imported Objects](#Binding-Imported-Objects)\n",
    "    2. [Running Scripts vs. Importing Modules](#Running-Scripts-vs.-Importing-Modules)\n",
    "6. [Built-in Objects](#Built-in-Objects)\n",
    "    - [Scalar Objects](#Scalar-Objects)\n",
    "        - [NoneType class](#NoneType-class)\n",
    "        - [bool class](#bool-class)\n",
    "            - [Operations on bools](#Operations-on-bools)\n",
    "        - [int class](#int-class)\n",
    "        - [float class](#float-class)\n",
    "            - [Operations on ints and floats](#Operations-on-ints-and-floats)\n",
    "    - [Collection Objects](#Collection-Objects)\n",
    "        - [str class](#str-class)\n",
    "        - [bytes class](#bytes-class)\n",
    "            - [Operations on strs and bytes](#Operations-on-strs-and-bytes)\n",
    "        - [tuple class](#tuple-class)\n",
    "        - [list class (mutable)](#list-class-%28mutable%29)\n",
    "            - [Operations on tuples and lists](#Operations-on-tuples-and-lists)\n",
    "        - [set class (mutable)](#set-class-%28mutable%29)\n",
    "            - [Operations on sets](#Operations-on-sets)\n",
    "        - [dict class (mutable)](#dict-class-%28mutable%29)\n",
    "            - [Operations on dicts](#Operations-on-dicts)\n",
    "7. [User defined Objects](#User-defined-Objects)\n",
    "    - [Object Behavior](#Object-Behavior)\n",
    "        - [function class](#function-class)\n",
    "        - [Packing Within a Signature](#Packing-Within-a-Signature)\n",
    "        - [Packing Outside a Signature](#Packing-Outside-a-Signature)\n",
    "        - [Pass by Object Reference](#Pass-by-Object-Reference)\n",
    "        - [lambda class](#lambda-class)\n",
    "        - [Functions as Lazy Objects](#Functions-as-Lazy-Objects)\n",
    "    - [Object State](#Object-State)\n",
    "        - [Class-Bindings](#Class-Bindings)\n",
    "        - [Instance Bindings](#Instance-Bindings)\n",
    "        - [Inheritance](#Inheritance)\n",
    "        - [Docstrings](#Docstrings)\n",
    "8. [Control Flow](#Control-Flow)\n",
    "    - [if Statement](#if-Statement)\n",
    "    - [while Statement](#while-Statement)\n",
    "    - [for Statement](#for-Statement)\n",
    "    - [Exception Handling](#Exception-Handling)\n",
    "        - [Exceptions](#Exceptions)\n",
    "        - [try Statement](#try-Statement)\n",
    "        - [Easier to Ask for Forgiveness than Permission (EAFP)](#Easier-to-Ask-for-Forgiveness-than-Permission-%28EAFP%29)\n",
    "    - [with Statement](#with-Statement)\n",
    "9. [Name Scopes](#Name-Scopes)\n",
    "10. [Processing Collections](#Processing-Collections)\n",
    "    1. [Generators](#Generators)\n",
    "    2. [Comprehensions](#Comprehensions)\n",
    "    3. [Functional Operations](#Functional-Operations)\n",
    "        - [map](#map)\n",
    "        - [filter](#filter)\n",
    "        - [reduce](#reduce)\n",
    "11. [Higher Order Functions](#Higher-Order-Functions)\n",
    "    1. [Closures](#Closures)\n",
    "    2. [Decorators](#Decorators)\n",
    "        1. [Simple Decorators](#Simple-Decorators)\n",
    "        2. [Parameterized Decorators](#Parameterized-Decorators)"
   ]
  },
  {
   "cell_type": "markdown",
   "metadata": {},
   "source": [
    "# Setup\n",
    "- Install Python: https://www.python.org/downloads/\n",
    "    - Enable \"Include to System Path\"\n",
    "- Run: `! python -m pip install jupyter`\n",
    "- Run: `! jupyter notebook`\n",
    "- Optional: `! jupyter nbconvert --to html PythonMaster.ipynb`"
   ]
  },
  {
   "cell_type": "markdown",
   "metadata": {},
   "source": [
    "# Python Primer"
   ]
  },
  {
   "cell_type": "markdown",
   "metadata": {},
   "source": [
    "## Python's Language\n",
    "- Dynamically-typed:\n",
    "    - Variables can take on any type\n",
    "- Strongly-typed:\n",
    "    - Variables can take only one type at a time\n",
    "    - No implicit type coercion\n",
    "- Interpreted:\n",
    "    - Combines compilation & execution\n",
    "\t- More convenient to run & debug code, but no compile-time checks\n",
    "- Supports multiple programming paradigms"
   ]
  },
  {
   "cell_type": "code",
   "execution_count": null,
   "metadata": {},
   "outputs": [],
   "source": [
    "x = 1\n",
    "print(x, type(x))\n",
    "print(x + 1, end=\"\\n\\n\")\n",
    "\n",
    "x = \"potato\"\n",
    "print(x, type(x))\n",
    "print(x + 1)  # ERROR!"
   ]
  },
  {
   "cell_type": "markdown",
   "metadata": {},
   "source": [
    "## Python's Philosophy\n",
    "- The goal of Python is to accomplish 2 things:\n",
    "    1. Code should be readable: easily detect important structures in the code\n",
    "    2. Code should be expressive: say more with less code"
   ]
  },
  {
   "cell_type": "code",
   "execution_count": null,
   "metadata": {},
   "outputs": [],
   "source": [
    "import antigravity"
   ]
  },
  {
   "cell_type": "markdown",
   "metadata": {},
   "source": [
    "- Python implements these through its desgin philosophy:\n",
    "    - Batteries included.\n",
    "    - We are all grown-ups here.\n",
    "    - The Zen of Python:"
   ]
  },
  {
   "cell_type": "code",
   "execution_count": null,
   "metadata": {},
   "outputs": [],
   "source": [
    "import this"
   ]
  },
  {
   "cell_type": "markdown",
   "metadata": {},
   "source": [
    "## The Standard Python Environment\n",
    "- The Python installation includes the following:\n",
    "    - Interpreter: `! python SCRIPT_FILE ARGS...`\n",
    "    - REPL (Read-Eval-Print-Loop): `! python`\n",
    "    - Comprehensive standard library: https://docs.python.org/3/library/\n",
    "        - Package manager: `! pip install PACKAGE_NAMES...`\n",
    "        - Built-ins: automatically loaded objects on startup\n",
    "        - Generic Operating System Services (os)\n",
    "        - Custom Python Interpreters (code)\n",
    "        - Python Runtime Services (sys, inspect)\n",
    "        - Internet Data Handling (json, base64, mimetypes)\n",
    "    - __(\"Batteries included\")__"
   ]
  },
  {
   "cell_type": "markdown",
   "metadata": {},
   "source": [
    "### The REPL\n",
    "- REPL stands for Read-Eval-Print-Loop\n",
    "    - Each object evaluation is displayed in real-time\n",
    "- Python automatically loads bootstrap objects such as \\_\\_name\\_\\_ and \\_\\_builtins\\_\\_\n",
    "    - \\_\\_name\\_\\_: a string that stores information on how the file is loaded\n",
    "    - \\_\\_builtins\\_\\_: a module that contains all the built-in objects\n",
    "- Python automatically does dynamic name resolution (late binding) for members of \\_\\_builtins\\_\\_"
   ]
  },
  {
   "cell_type": "code",
   "execution_count": null,
   "metadata": {
    "scrolled": true
   },
   "outputs": [],
   "source": [
    "(\"Hello \" + \"World\" + \"!\" * 3)"
   ]
  },
  {
   "cell_type": "code",
   "execution_count": null,
   "metadata": {},
   "outputs": [],
   "source": [
    "__name__"
   ]
  },
  {
   "cell_type": "code",
   "execution_count": null,
   "metadata": {},
   "outputs": [],
   "source": [
    "__builtins__  # module that contains all the built-in objects"
   ]
  },
  {
   "cell_type": "code",
   "execution_count": null,
   "metadata": {},
   "outputs": [],
   "source": [
    "__builtins__.globals()  # built-in function that shows all global variables in scope"
   ]
  },
  {
   "cell_type": "code",
   "execution_count": null,
   "metadata": {},
   "outputs": [],
   "source": [
    "__builtins__.globals == globals  # dynamic resolution of objects in __builtins__"
   ]
  },
  {
   "cell_type": "code",
   "execution_count": null,
   "metadata": {},
   "outputs": [],
   "source": [
    "print(\"Hello world!\")  # built-in function for printing the string representation of an object"
   ]
  },
  {
   "cell_type": "code",
   "execution_count": null,
   "metadata": {},
   "outputs": [],
   "source": [
    "dir(__builtins__)  # built-in function that returns all references contained by an object"
   ]
  },
  {
   "cell_type": "code",
   "execution_count": null,
   "metadata": {},
   "outputs": [],
   "source": [
    "round(\"potato\")  # ERROR!"
   ]
  },
  {
   "cell_type": "code",
   "execution_count": null,
   "metadata": {},
   "outputs": [],
   "source": [
    "help(round)  # built-in method that shows the docstrings (__doc__) inside an object"
   ]
  },
  {
   "cell_type": "code",
   "execution_count": null,
   "metadata": {},
   "outputs": [],
   "source": [
    "round(1.5)"
   ]
  },
  {
   "cell_type": "code",
   "execution_count": null,
   "metadata": {},
   "outputs": [],
   "source": [
    "_  # the REPL-specific variable that stores the result of the previous evaluation"
   ]
  },
  {
   "cell_type": "code",
   "execution_count": null,
   "metadata": {
    "scrolled": false
   },
   "outputs": [],
   "source": [
    "help(\"modules\")  # help also recognizes special keywords, e.g. \"modules\" shows all available modules"
   ]
  },
  {
   "cell_type": "markdown",
   "metadata": {},
   "source": [
    "### Compound Statements and Comments\n",
    "- A code block prefixed by colons \":\" and its scope is denoted by an added indentation level\n",
    "    - Readable code must have indent code blocks __(\"Readability counts.\")__\n",
    "    - Since developers are expected to write readable code, then braces are unnecessary\n",
    "- Single line code blocks can be written on the same line\n",
    "- Comments are prefixed by hash \"#\""
   ]
  },
  {
   "cell_type": "code",
   "execution_count": null,
   "metadata": {},
   "outputs": [],
   "source": [
    "%load braces"
   ]
  },
  {
   "cell_type": "code",
   "execution_count": null,
   "metadata": {},
   "outputs": [],
   "source": [
    "%run braces"
   ]
  },
  {
   "cell_type": "code",
   "execution_count": null,
   "metadata": {},
   "outputs": [],
   "source": [
    "if True:\n",
    "    print(\"hello\")\n",
    "    print(\"world\")\n",
    "if True: print(\"potato\")  # comments are ignored"
   ]
  },
  {
   "cell_type": "markdown",
   "metadata": {},
   "source": [
    "### No Red Tape\n",
    "- The REPL, built-ins, and standard libraries lets you write code more effectively\n",
    "    - The REPL lessens the gap between code and execution\n",
    "    - The REPL doesn't fatally crash over some typo\n",
    "    - The built-ins and standard libraries contain debugging & exploratory tools:\n",
    "        - Bring up a separate REPL in the middle of execution using: `code.interact()`\n",
    "        - Bring up the source code in the middle of execution using: `inspect.getsource()`\n",
    "        - Introduce breakpoints using: `pdb.set_trace()`\n",
    "        - Exploratory builtin methods: `dir()`, `help()`, `type()` + Google\n",
    "- Everything is accessible since abstraction is only used for organizing code\n",
    "    - This is unlike C# or Java where there are access modifiers to baby-proof the code\n",
    "    - Respecting modularity the responsibility of the developers __(\"We're all grown-ups here.\")__\n",
    "- Perfect for \"headless-chicken-coding\""
   ]
  },
  {
   "cell_type": "markdown",
   "metadata": {},
   "source": [
    "## Data Model\n",
    "- Everything in Python is defined by objects: https://docs.python.org/3/reference/datamodel.html\n",
    "    - What defines an object? <!-- Objects are implemented in C -->\n",
    "- The behavior of an object is characterized by its function objects\n",
    "    - Most keywords & constructs in Python are actually references to \"Magic methods\" within objects\n",
    "    - Type checks are done within these magic methods\n",
    "        - If an object walks like a duck and talks like a duck, then let's treat it like a duck\n",
    "    - Duck-typing eliminates the need for notions such as generics\n",
    "    - Other safety checks are delegated to the methods\n",
    "    - Safe operations are the responsibility of the developers __(\"We're all grown-ups here.\")__"
   ]
  },
  {
   "cell_type": "code",
   "execution_count": null,
   "metadata": {},
   "outputs": [],
   "source": [
    "print(\"Default contents of an object:\")\n",
    "print(dir(object), end=\"\\n\\n\")\n",
    "\n",
    "print(\"Dynamic/Duck-typing in action:\")\n",
    "print((1).__lt__(2))  # or 1 < 2\n",
    "print((1).__lt__(\"potato\"))  # the __lt__ method of 1 does not accept string inputs"
   ]
  },
  {
   "cell_type": "markdown",
   "metadata": {},
   "source": [
    "### Binding Objects\n",
    "- Keywords: =\n",
    "- An object is loaded into memory and it exists independently from its variables\n",
    "- A variable is an object reference\n",
    "    - The = symbol means \"bind to\" instead of \"write to\"\n",
    "    - Duplicated variables do not consume any additional memory, they will simply refer to the same object\n",
    "    - Once the number of references to an object reaches 0, the garbage collector erases the object from memory"
   ]
  },
  {
   "cell_type": "code",
   "execution_count": null,
   "metadata": {},
   "outputs": [],
   "source": [
    "print(id(\"potato\"))  # built-in method that returns the unique identifier of an object\n",
    "\n",
    "x = \"potato\"  # the x is bound to \"potato\" \n",
    "z = x  # z is bound to x's bounded object\n",
    "print(id(\"potato\"), id(x), id(z))\n",
    "\n",
    "x = \"tomato\"  # x is bound to a new object\n",
    "print(id(\"potato\"), id(x), id(z))"
   ]
  },
  {
   "cell_type": "markdown",
   "metadata": {},
   "source": [
    "### Operations on Bindings\n",
    "- Keywords: is, del"
   ]
  },
  {
   "cell_type": "code",
   "execution_count": null,
   "metadata": {},
   "outputs": [],
   "source": [
    "x = \"potato\"\n",
    "print(x is \"potato\")  # an abbreviation for id(x) == id(y)\n",
    "print(x)\n",
    "del x  # unbinds the object from its variable\n",
    "print(x)  # ERROR !"
   ]
  },
  {
   "cell_type": "markdown",
   "metadata": {},
   "source": [
    "## Imported Objects"
   ]
  },
  {
   "cell_type": "markdown",
   "metadata": {},
   "source": [
    "### Binding Imported Objects\n",
    "- Keywords: from, import, as"
   ]
  },
  {
   "cell_type": "code",
   "execution_count": null,
   "metadata": {},
   "outputs": [],
   "source": [
    "import math  # imports entire module\n",
    "from math import pi  # import specific objects\n",
    "\n",
    "import math as m  # use as to modify the variable name\n",
    "from math import pi as π\n",
    "\n",
    "print(math == m)\n",
    "print(pi == π)\n",
    "print(math.pi == m.pi == pi == π)"
   ]
  },
  {
   "cell_type": "markdown",
   "metadata": {},
   "source": [
    "### Running Scripts vs. Importing Modules\n",
    "- Python files can be loaded as a script or as an import\n",
    "    - If it is loaded as a script, then \\_\\_name\\_\\_ == '\\_\\_main\\_\\_'\n",
    "    - If it is loaded as an import, then \\_\\_name\\_\\_ == NAME_OF_IMPORTER"
   ]
  },
  {
   "cell_type": "code",
   "execution_count": null,
   "metadata": {},
   "outputs": [],
   "source": [
    "# %load showsysargs\n",
    "import sys\n",
    "\n",
    "print(\"__name__ :\", __name__)\n",
    "print(\"sys.argv :\", sys.argv)  # process arguments\n",
    "if __name__ == '__main__':\n",
    "    print(\"Executed main block!\")\n",
    "else:\n",
    "    print(\"Did not execute main block!\")"
   ]
  },
  {
   "cell_type": "code",
   "execution_count": null,
   "metadata": {},
   "outputs": [],
   "source": [
    "%run showsysargs arg1 arg2 arg3"
   ]
  },
  {
   "cell_type": "code",
   "execution_count": null,
   "metadata": {},
   "outputs": [],
   "source": [
    "import showsysargs"
   ]
  },
  {
   "cell_type": "markdown",
   "metadata": {},
   "source": [
    "## Built-in Objects"
   ]
  },
  {
   "cell_type": "markdown",
   "metadata": {},
   "source": [
    "### Scalar Objects"
   ]
  },
  {
   "cell_type": "markdown",
   "metadata": {},
   "source": [
    "#### NoneType class"
   ]
  },
  {
   "cell_type": "code",
   "execution_count": null,
   "metadata": {},
   "outputs": [],
   "source": [
    "print(None)"
   ]
  },
  {
   "cell_type": "markdown",
   "metadata": {},
   "source": [
    "####  bool class"
   ]
  },
  {
   "cell_type": "code",
   "execution_count": null,
   "metadata": {},
   "outputs": [],
   "source": [
    "print(\"bools via literals:\")\n",
    "print(True)\n",
    "print(False, end=\"\\n\\n\")\n",
    "\n",
    "print(\"bools via constructors:\")\n",
    "print(None, bool(None))\n",
    "print(-10, bool(-10))\n",
    "print(0, bool(0))\n",
    "print('\"\"', bool(\"\"))\n",
    "print('\"False\"', bool(\"False\"))\n",
    "print([], bool([]))\n",
    "print([\"potato\"], bool([\"potato\"]))"
   ]
  },
  {
   "cell_type": "markdown",
   "metadata": {},
   "source": [
    "##### Operations on bools"
   ]
  },
  {
   "cell_type": "markdown",
   "metadata": {},
   "source": [
    "- Boolean connectives"
   ]
  },
  {
   "cell_type": "code",
   "execution_count": null,
   "metadata": {},
   "outputs": [],
   "source": [
    "print(True and False)\n",
    "print(True or False)\n",
    "print(not False)"
   ]
  },
  {
   "cell_type": "markdown",
   "metadata": {},
   "source": [
    "- Ternary operator"
   ]
  },
  {
   "cell_type": "code",
   "execution_count": null,
   "metadata": {},
   "outputs": [],
   "source": [
    "print(123 if True else \"potato\")\n",
    "print(123 if False else \"potato\")"
   ]
  },
  {
   "cell_type": "markdown",
   "metadata": {},
   "source": [
    "- Multiple comparisons"
   ]
  },
  {
   "cell_type": "code",
   "execution_count": null,
   "metadata": {},
   "outputs": [],
   "source": [
    "print(1 < 2 and 2 < 2)\n",
    "print(1 < 2 < 2)\n",
    "print(1 < 2 <= 2)\n",
    "print(1 - 1 == 0 == 1 * 0 != 3)\n",
    "print(1 < 3 > 2)"
   ]
  },
  {
   "cell_type": "markdown",
   "metadata": {},
   "source": [
    "#### int class"
   ]
  },
  {
   "cell_type": "code",
   "execution_count": null,
   "metadata": {},
   "outputs": [],
   "source": [
    "print(\"ints via literals:\")\n",
    "print(10)  # int default\n",
    "print(0b10)  # int base 2\n",
    "print(0o777)  # int base 8\n",
    "print(-0xdeadbeef, end=\"\\n\\n\")  # int base 16\n",
    "\n",
    "print(\"ints via constructors:\")\n",
    "print(int(True))\n",
    "print(int(10.9))\n",
    "print(int(\"-11\", base=7))"
   ]
  },
  {
   "cell_type": "markdown",
   "metadata": {},
   "source": [
    "#### float class"
   ]
  },
  {
   "cell_type": "code",
   "execution_count": null,
   "metadata": {},
   "outputs": [],
   "source": [
    "print(\"floats via literals:\")\n",
    "print(10.1)  # float default\n",
    "print(-2e-5, end=\"\\n\\n\")  # float scientific notation\n",
    "\n",
    "print(\"floats via constructors:\")\n",
    "print(float(False))\n",
    "print(float('nan'))\n",
    "print(float('inf'))\n",
    "print(float('-inf'))"
   ]
  },
  {
   "cell_type": "markdown",
   "metadata": {},
   "source": [
    "##### Operations on ints and floats"
   ]
  },
  {
   "cell_type": "markdown",
   "metadata": {},
   "source": [
    "- Mathematical operations"
   ]
  },
  {
   "cell_type": "code",
   "execution_count": null,
   "metadata": {},
   "outputs": [],
   "source": [
    "print((10).__mul__((10).__add__(1)).__eq__(10 * (10 + 1)))\n",
    "print(10 / 3)  # real division (calls __truediv__)\n",
    "print(10 // 3)  # integer division (calls __floordiv__)\n",
    "print(10 % 3)  # modulo (calls __mod__)\n",
    "print(2 ** 3)  # exponentiation (calls __pow__)\n",
    "print(1 / float('inf'))"
   ]
  },
  {
   "cell_type": "markdown",
   "metadata": {},
   "source": [
    "- Dynamic size allocation for objects"
   ]
  },
  {
   "cell_type": "code",
   "execution_count": null,
   "metadata": {},
   "outputs": [],
   "source": [
    "print(2 ** 1024)  # compare to System.out.println(Math.pow(2, 1024)); // https://code.sololearn.com/cVRUy2BwauK8#java\n",
    "print(2 ** 102400)  # Python stores numbers with dynamic precision (\"Batteries included.\")"
   ]
  },
  {
   "cell_type": "markdown",
   "metadata": {},
   "source": [
    "- Bit-wise operations"
   ]
  },
  {
   "cell_type": "code",
   "execution_count": null,
   "metadata": {
    "scrolled": true
   },
   "outputs": [],
   "source": [
    "x = 0b10101\n",
    "y = 0b01011\n",
    "print(x, bin(x))  # built-in function that returns the integer in binary\n",
    "print(bin(x & y))  # bit-wise and\n",
    "print(bin(x | y))  # bit-wise or\n",
    "print(bin(x ^ y))  # bit-wise xor\n",
    "print(bin(~x))  # bit-wise complement"
   ]
  },
  {
   "cell_type": "markdown",
   "metadata": {},
   "source": [
    "- Augmented assignment statements for binary operations"
   ]
  },
  {
   "cell_type": "code",
   "execution_count": null,
   "metadata": {},
   "outputs": [],
   "source": [
    "x = 123  # binds 123 to x\n",
    "print(x, id(x))\n",
    "x += 1  # x.__add__(1) binds to x\n",
    "print(x, id(x))\n",
    "x =+ 1  # bind +1 to x\n",
    "print(x, id(x))"
   ]
  },
  {
   "cell_type": "markdown",
   "metadata": {},
   "source": [
    "### Collection Objects"
   ]
  },
  {
   "cell_type": "markdown",
   "metadata": {},
   "source": [
    "#### str class\n",
    "- A string can be delimited using:\n",
    "    - single quotes ('): automatically escapes (\")\n",
    "    - double quotes (\"): automatically escapes (')\n",
    "    - 3 single quotes ('''): automatically escapes ('), (\"), (\"\"\"), (\\n)\n",
    "    - 3 double quotes (\"\"\"): automatically escapes ('), (\"), ('''), (\\n)\n",
    "        - __(\"Special cases aren't special enough to break the rules. Although practicality beats purity\")__\n",
    "- Strings with no quotes follow the convention:\n",
    "    - Strings denoting a symbol, key, or variable are delimited using single quotes (')\n",
    "    - Strings with no interpretation are delimited using double quotes (\")\n",
    "- String literals prefixed by \"r\" are raw strings (ignore escape sequences)\n",
    "- String literals prefixed by \"f\" are f-strings (string formatted with variables)"
   ]
  },
  {
   "cell_type": "code",
   "execution_count": null,
   "metadata": {
    "scrolled": true
   },
   "outputs": [],
   "source": [
    "print(\"strs via literals:\")\n",
    "print(\"I'm JP\")\n",
    "print('JP said \"This sentence is false.\"')\n",
    "print(\"\"\"___\n",
    "my line 2: I'm JP (multiline version) \"\"\")\n",
    "print('''___\n",
    "my line 2: JP said \"This sentence is false.\" (multiline version) ''')\n",
    "print(\"I'm a string with \\t escape squences\\t\\u00e6\")\n",
    "print(r\"I'm a raw string \\t \\t \\u00e6 \")\n",
    "print(f\"I can format strings using f-strings. My __name__ is: {__name__}\", end=\"\\n\\n\")\n",
    "\n",
    "print(\"strs via constructors:\")\n",
    "print(str(12e-1))\n",
    "print(str(b\"hello\", encoding='utf-8'))"
   ]
  },
  {
   "cell_type": "markdown",
   "metadata": {},
   "source": [
    "#### bytes class\n",
    "- String literals prefixed by \"b\" are bytes"
   ]
  },
  {
   "cell_type": "code",
   "execution_count": null,
   "metadata": {},
   "outputs": [],
   "source": [
    "print(\"bytes via literals:\")\n",
    "print(b\"i'm a bytestring\", end=\"\\n\\n\")\n",
    "\n",
    "print(\"bytes via constructors:\")\n",
    "print(bytes(10))\n",
    "print(bytes(\"hello\", encoding='utf-8'))"
   ]
  },
  {
   "cell_type": "markdown",
   "metadata": {},
   "source": [
    "##### Operations on strs and bytes"
   ]
  },
  {
   "cell_type": "code",
   "execution_count": null,
   "metadata": {},
   "outputs": [],
   "source": [
    "print(\"\\tabcdefg\".replace(\"a\", \"0\"))\n",
    "print(\"\\tabcdefg\".upper())  # all caps\n",
    "print(\"\\tabcdefg\".strip())  # strips trailing whitespaces\n",
    "print(\"\\tabcdefg\".endswith(\"g\"))\n",
    "print(\"\\tabcdefg\".index(\"g\"))\n",
    "print(\"\\tabcdefg\"[7])  # similar to tuple indexing\n",
    "print(\"\\tabcdefg\"[1:3])  # similar to tuple splicing\n",
    "print(\"x\" + \"y\")  # concatinates strings (calls __add__)\n",
    "print(\"xy\" * 3)  # repeated concatination (calls __mul__)\n",
    "print(\"y\" in \"xyz\")  # checks if substring (calls __contains__)\n",
    "print(len(\"12345\"), end=\"\\n\\n\")  # returns the number of characters in the string (calls __len__)\n",
    "\n",
    "print(\"str and bytes share the objects excluding:\")\n",
    "print(\"str specific objects: \", [v for v in dir(str) if v not in dir(bytes)])\n",
    "print(\"bytes specific objects: \", [v for v in dir(bytes) if v not in dir(str)])"
   ]
  },
  {
   "cell_type": "markdown",
   "metadata": {},
   "source": [
    "#### tuple class"
   ]
  },
  {
   "cell_type": "code",
   "execution_count": null,
   "metadata": {},
   "outputs": [],
   "source": [
    "print(())\n",
    "print((10, True, \"potato\"))"
   ]
  },
  {
   "cell_type": "markdown",
   "metadata": {},
   "source": [
    "#### list class (mutable)\n",
    "- A mutable tuple"
   ]
  },
  {
   "cell_type": "code",
   "execution_count": null,
   "metadata": {},
   "outputs": [],
   "source": [
    "print([])\n",
    "print([10, True, \"potato\"])"
   ]
  },
  {
   "cell_type": "markdown",
   "metadata": {},
   "source": [
    "##### Operations on tuples and lists"
   ]
  },
  {
   "cell_type": "code",
   "execution_count": null,
   "metadata": {},
   "outputs": [],
   "source": [
    "print(\"tuple and list indexing:\")\n",
    "print([1, 2, 3, 4, 5, 6][0])  # gets object at index 0 (calls __getitem__)\n",
    "print([1, 2, 3, 4, 5, 6][-1])  # gets object at last index (lists are circular)\n",
    "print([1, 2, 3, 4, 5, 6][ :2])  # splices the list from start index until index 2\n",
    "print([1, 2, 3, 4, 5, 6][2: ])  # splices the list from index 2 until last index\n",
    "print([1, 2, 3, 4, 5, 6][ :-2])  # splices the list from start index until second to last index\n",
    "print([1, 2, 3, 4, 5, 6][-2: ])  # splices the list from second to last index until last index \n",
    "print([1, 2, 3, 4, 5, 6][ : ])  # splices the list from start index to last index (new copy)"
   ]
  },
  {
   "cell_type": "code",
   "execution_count": null,
   "metadata": {},
   "outputs": [],
   "source": [
    "print(\"tuple and list operators:\")\n",
    "print(2 in [1, 2 ,3])\n",
    "print(4 not in [1, 2 ,3])\n",
    "print((1, 2) + (3,))\n",
    "print((\"potato\",) * 3)\n",
    "print(sorted([1, 3 ,2], reverse=True))  # not in place sorting\n",
    "print(len((1, 2, 3, True)), end=\"\\n\\n\")\n",
    "\n",
    "print(\"tuple and list share the objects excluding:\")\n",
    "print(\"list specific objects: \", [w for w in dir(list) if w not in dir(tuple)])\n",
    "x = [1, 20, 3,]\n",
    "x[0] = 10\n",
    "x.sort()  # in place sorting\n",
    "print(x)  # replaced 1 by 10, then sorted"
   ]
  },
  {
   "cell_type": "code",
   "execution_count": null,
   "metadata": {},
   "outputs": [],
   "source": [
    "print(\"aggregating functions:\")\n",
    "print(any([True, False, False]))\n",
    "print(all([True, True, False]))\n",
    "num_list = [1, 2, 3]\n",
    "print(sum(num_list))\n",
    "print(sum(num_list) / len(num_list))"
   ]
  },
  {
   "cell_type": "markdown",
   "metadata": {},
   "source": [
    "#### set class (mutable)\n",
    "- A list with unique elements which are hashable or immutable "
   ]
  },
  {
   "cell_type": "code",
   "execution_count": null,
   "metadata": {},
   "outputs": [],
   "source": [
    "print(set())\n",
    "print({10, True, \"potato\", 10})\n",
    "print({1, 2, [3]})  # ERROR!"
   ]
  },
  {
   "cell_type": "markdown",
   "metadata": {},
   "source": [
    "##### Operations on sets"
   ]
  },
  {
   "cell_type": "code",
   "execution_count": null,
   "metadata": {},
   "outputs": [],
   "source": [
    "x = {1, 2, 3}\n",
    "y = {2, 3, 4}\n",
    "x.add(0)\n",
    "x.discard(3)\n",
    "print(x, y)\n",
    "print(x | y)  # union\n",
    "print(x & y)  # intersection\n",
    "print(x - y)  # difference"
   ]
  },
  {
   "cell_type": "markdown",
   "metadata": {},
   "source": [
    "#### dict class (mutable)\n",
    "    - Implemented as a hash table, thus keys must be hashable or immutable"
   ]
  },
  {
   "cell_type": "code",
   "execution_count": null,
   "metadata": {},
   "outputs": [],
   "source": [
    "print({})\n",
    "print({\n",
    "    \"my key\": \"my value\",\n",
    "    True: \"\",\n",
    "    \"False\": 50,\n",
    "    (\"x\", \"y\", \"z\"): [1, \"2\", True]\n",
    "})\n",
    "\n",
    "print({[1, \"2\", True]: (\"x\", \"y\", \"z\")})  # ERROR!"
   ]
  },
  {
   "cell_type": "markdown",
   "metadata": {},
   "source": [
    "##### Operations on dicts"
   ]
  },
  {
   "cell_type": "code",
   "execution_count": null,
   "metadata": {},
   "outputs": [],
   "source": [
    "print(\"dict indexing:\")\n",
    "print({1: 2, True: -10}[True])\n",
    "print({1: 2, True: -10}.get(False, \"default get\"), end=\"\\n\\n\")\n",
    "\n",
    "print(\"dict operators:\")\n",
    "x = {\"key1\": 2, True: 4}\n",
    "print(len(x))\n",
    "x[True] = 50\n",
    "print(x)\n",
    "x[\"new key\"] = \"new value\"\n",
    "print(x)\n",
    "x.pop(\"key1\")\n",
    "print(x)\n",
    "x.update({\"asd\": \"ASD\", \"ZXC\": \"zxc\"})\n",
    "print(x)"
   ]
  },
  {
   "cell_type": "markdown",
   "metadata": {},
   "source": [
    "# User-defined Objects"
   ]
  },
  {
   "cell_type": "markdown",
   "metadata": {},
   "source": [
    "## Object Behavior"
   ]
  },
  {
   "cell_type": "markdown",
   "metadata": {},
   "source": [
    "### function class\n",
    "- Keywords: def, return\n",
    "- Unpacked arguments\n",
    "    - Mandatory arguments\n",
    "    - Optional arguments\n",
    "- Optional arguments eliminates the need for notions such as method overloading __(\"Complex is better than compicated.\")__"
   ]
  },
  {
   "cell_type": "code",
   "execution_count": null,
   "metadata": {},
   "outputs": [],
   "source": [
    "def dup_str(s1, s2=\"-\", n=1):\n",
    "    return (s1 + s2) * n\n",
    "\n",
    "def insert_then_print(x=[]):\n",
    "    x.insert(0, \"hi\")\n",
    "    print(x)"
   ]
  },
  {
   "cell_type": "markdown",
   "metadata": {},
   "source": [
    "- Arguments are assigned using positions or keywords\n",
    "    - Positional arguments must preceed keyword arguments\n",
    "    - Keyword argument can disregard position\n",
    "- Keyword arguments can improve the clarity of method calls __(\"Explicit is better than implicit.\")__\n",
    "- The default binding of optional arguments are only binded (once) on declaration"
   ]
  },
  {
   "cell_type": "code",
   "execution_count": null,
   "metadata": {},
   "outputs": [],
   "source": [
    "print(dup_str(\"a\"))  # uses defaults\n",
    "print(dup_str(\"b\", s2=\"+\", n=2))  # overwrite defaults\n",
    "print(dup_str(n=3, s2=\"0\", s1=\"w\"))  # keyword arguments ignore position\n",
    "\n",
    "for i in range(3): insert_then_print([1, 2, 3])  # uses passed binding\n",
    "for i in range(3): insert_then_print()  # uses default binding"
   ]
  },
  {
   "cell_type": "markdown",
   "metadata": {},
   "source": [
    "### Packing Within a Signature\n",
    "- A packed list of positional arguments are prefixed by \"*\"\n",
    "    - Arguments declared after \\*args can only be assigned using keywords\n",
    "- A packed dict of keyword arguments are prefixed by \"**\"\n",
    "    - The keys must be strings"
   ]
  },
  {
   "cell_type": "code",
   "execution_count": null,
   "metadata": {},
   "outputs": [],
   "source": [
    "def echo_args(arg, *args, kwarg, **kwargs):\n",
    "    print(f\"arg = {arg} \\nargs = {args} \\nkwarg = {kwarg} \\nkwargs = {kwargs}\\n\")\n",
    "\n",
    "echo_args(1, kwarg=True)\n",
    "echo_args(1, 2, 3, 4, kwarg=False, a=2, b=\"4\")"
   ]
  },
  {
   "cell_type": "markdown",
   "metadata": {},
   "source": [
    "### Packing Outside a Signature\n",
    "- The symbol * means unpack the list as arguments\n",
    "    - Can be used with bindings and expressions\n",
    "- The symbol ** means unpack the dict as keyword arguments"
   ]
  },
  {
   "cell_type": "code",
   "execution_count": null,
   "metadata": {
    "scrolled": true
   },
   "outputs": [],
   "source": [
    "print(\"unpack method call:\")\n",
    "my_arg = 10\n",
    "packed_args = [1, 2, 3, 4]\n",
    "my_kwarg = 20\n",
    "packed_kwargs = {\"1\": 2, \"3\": 4}\n",
    "echo_args(my_arg, *packed_args, kwarg=my_kwarg, **packed_kwargs)\n",
    "\n",
    "print(\"unpacked bindings:\")\n",
    "(a, b, c, d, e) = [1, 2, 3, 4, 5]\n",
    "print(a, b, c, d, e)\n",
    "(a, *b, c) = [1, 2, 3, 4, 5]\n",
    "print(a, b, c, end=\"\\n\\n\")\n",
    "\n",
    "print(\"unpacked expressions:\")\n",
    "print([ *(1, 2, 3), *[\"a\", \"b\", \"c\"] ])\n",
    "print({ **{1: 2, 3: 4}, **{\"a\": \"b\", 1: 5}})\n",
    "print(( *[1, 2] , 3, 4))"
   ]
  },
  {
   "cell_type": "code",
   "execution_count": null,
   "metadata": {},
   "outputs": [],
   "source": [
    "help(print)"
   ]
  },
  {
   "cell_type": "code",
   "execution_count": null,
   "metadata": {},
   "outputs": [],
   "source": [
    "def print_dup_wrapper(value, n, *args, **kwargs):\n",
    "    \"\"\" No need to enumerate and pass every possible parameter (value, ..., sep, end, file, flush). \"\"\"\n",
    "    print(value * n, *args, **kwargs)\n",
    "\n",
    "print(\">>> hello\", 2, end=\" world!\\n\")\n",
    "print_dup_wrapper(\">>> hello\", 3, \" . . . \", sep=\"[\\t]\", end=\" world!\\n\", flush=True)"
   ]
  },
  {
   "cell_type": "markdown",
   "metadata": {},
   "source": [
    "### Pass by Object Reference\n",
    "- Parameters inherit bindings from the arguments"
   ]
  },
  {
   "cell_type": "code",
   "execution_count": null,
   "metadata": {},
   "outputs": [],
   "source": [
    "def modify_list(arg_list):\n",
    "    arg_list[0] *= -10  # modifies the same object\n",
    "\n",
    "my_list = [1, 2, 3]\n",
    "print(my_list)\n",
    "modify_list(my_list)\n",
    "print(my_list)"
   ]
  },
  {
   "cell_type": "code",
   "execution_count": null,
   "metadata": {},
   "outputs": [],
   "source": [
    "def modify_rebinded_list(arg_list):\n",
    "    arg_list = arg_list.copy()  # arg_list is rebinded\n",
    "    arg_list[0] *= -10  # modifies a different object \n",
    "\n",
    "modify_rebinded_list(my_list)\n",
    "print(my_list)"
   ]
  },
  {
   "cell_type": "markdown",
   "metadata": {},
   "source": [
    "### lambda class\n",
    "- Lambdas are anonymous or nameless functions\n",
    "- Lambdas are not as prominent in Python since functions are objects that can already be passed around\n",
    "- Lambdas are mostly used for in-line constructions of simple functions"
   ]
  },
  {
   "cell_type": "code",
   "execution_count": null,
   "metadata": {
    "scrolled": true
   },
   "outputs": [],
   "source": [
    "print((lambda x, y: x * y)(4, 5))\n",
    "print((lambda n: (lambda f, *a: f(f, *a))(lambda rec, n: 1 if n == 0 else n * rec(rec, n - 1), n))(10))  # Turing-complete\n",
    "print(10 * 9 * 8 * 7 * 6 * 5 * 4 * 3 * 2 * 1 * 1)"
   ]
  },
  {
   "cell_type": "markdown",
   "metadata": {},
   "source": [
    "### Functions as Lazy Objects\n",
    "- Functions can be used to house computationally expensive objects\n",
    "    1. Store the computation inside a function\n",
    "    2. Pass it around using the function handle\n",
    "    3. Trigger evaluation by calling the function"
   ]
  },
  {
   "cell_type": "code",
   "execution_count": null,
   "metadata": {},
   "outputs": [],
   "source": [
    "import time\n",
    "\n",
    "def lazy_int():\n",
    "    print(\"Lazy eval started\")\n",
    "    x = 42\n",
    "    time.sleep(6)\n",
    "    return x\n",
    "\n",
    "lazy_int2 = lambda: 42  # alternative\n",
    "\n",
    "big_int_handle = lazy_int\n",
    "print(big_int_handle)\n",
    "print(\"Hello world!\", 1 + 1)\n",
    "print(big_int_handle())"
   ]
  },
  {
   "cell_type": "markdown",
   "metadata": {},
   "source": [
    "## Object State"
   ]
  },
  {
   "cell_type": "markdown",
   "metadata": {},
   "source": [
    "### Class Bindings\n",
    "- Keywords: class, .\n",
    "- Use the membership operator (.) to refer to the bindings of an object\n",
    "- A function call (fnc) referenced from an instance (ins) of a class (cls) is an abbreviation for: `cls.fnc(ins, *args, **kwargs)`"
   ]
  },
  {
   "cell_type": "code",
   "execution_count": null,
   "metadata": {},
   "outputs": [],
   "source": [
    "class ClassOnly:\n",
    "    my_var = \"10\"\n",
    "    def echo_args(*args, **kwargs):\n",
    "        return (args, kwargs)\n",
    "\n",
    "s = ClassOnly()  # calls the default __init__\n",
    "print(s.my_var, ClassOnly.my_var, end=\"\\n\\n\")\n",
    "\n",
    "print(\"instance bound method vs. class bound method:\")\n",
    "print(s.echo_args)  # instance bound method\n",
    "print(ClassOnly.echo_args)  # class bound method\n",
    "print(s.echo_args(1, 2, 3))\n",
    "print(ClassOnly.echo_args(1, 2, 3))\n",
    "print(s.echo_args(1, 2, 3) == ClassOnly.echo_args(s, 1, 2, 3))  # syntactic sugar"
   ]
  },
  {
   "cell_type": "markdown",
   "metadata": {},
   "source": [
    "### Instance Bindings\n",
    "- Keywords: self\n",
    "- self refers to the instance of an object"
   ]
  },
  {
   "cell_type": "code",
   "execution_count": null,
   "metadata": {},
   "outputs": [],
   "source": [
    "class WithInstance:\n",
    "    class_var = 20\n",
    "    def __init__(self):\n",
    "        self.instance_var = 30\n",
    "    def do_mutations(self):\n",
    "        self.class_var *= -1\n",
    "        self.instance_var *= -1\n",
    "        print(\"Mutations done!\")\n",
    "\n",
    "s = WithInstance()  # calls the overridden __init__\n",
    "s.do_mutations()\n",
    "print(s.class_var)\n",
    "print(s.instance_var)\n",
    "print(WithInstance.class_var)\n",
    "print(WithInstance.instance_var)  # ERROR!"
   ]
  },
  {
   "cell_type": "code",
   "execution_count": null,
   "metadata": {},
   "outputs": [],
   "source": [
    "s = WithInstance()\n",
    "WithInstance.blabla = 20\n",
    "print(s.blabla)   # changes in the class are reflected in the instances\n",
    "print(s.blabla, getattr(s, 'blabla'))  # built-in function (calls __getattribute__)\n",
    "print(hasattr(s, 'blablabla0'))  # built-in function\n",
    "print(getattr(s, 'blablabla0', \"default return\")) \n",
    "setattr(s, 'blabla', 30)  # built-in function (calls __setattr__)\n",
    "s.blabla += 1\n",
    "print(s.blabla)"
   ]
  },
  {
   "cell_type": "markdown",
   "metadata": {},
   "source": [
    "### Inheritance\n",
    "- Multiple inheritance is possible\n",
    "    - Conflicting names are resolved via Method Resolution Order (MRO) & super() magic -- advanced"
   ]
  },
  {
   "cell_type": "code",
   "execution_count": null,
   "metadata": {
    "scrolled": true
   },
   "outputs": [],
   "source": [
    "class Inheriter(ClassOnly, WithInstance):  # calls __subclasshook__\n",
    "    inheriter_class_var = True\n",
    "    def __init__(self, instance_var):\n",
    "        print(\">> Started Inheriter initialization\")\n",
    "        self.inheriter_instance_var = instance_var\n",
    "        print(\">> Initializing ClassOnly\")\n",
    "        ClassOnly.__init__(self)\n",
    "        print(\">> Initializing WithInstance\")\n",
    "        WithInstance.__init__(self)\n",
    "        self.inheriter_instance_var_other = \"tomato\"\n",
    "        print(\">> Finished Inheriter initialization\")\n",
    "\n",
    "c = Inheriter(\"potato\")\n",
    "print(dir(c))\n",
    "c.do_mutations()"
   ]
  },
  {
   "cell_type": "markdown",
   "metadata": {},
   "source": [
    "### Docstrings\n",
    "- Unbounded string literals that occur immediately after the keywords class or def are treated as docstrings"
   ]
  },
  {
   "cell_type": "code",
   "execution_count": null,
   "metadata": {},
   "outputs": [],
   "source": [
    "class MyClass:\n",
    "    \"\"\" === My docstring for MyClass === \"\"\"\n",
    "    def my_method(self):\n",
    "        ' --- My docstring for my_method --- '\n",
    "        pass  # placeholder for \"do nothing\"\n",
    "\n",
    "print(MyClass.my_method.__doc__)\n",
    "print(MyClass.__doc__)"
   ]
  },
  {
   "cell_type": "markdown",
   "metadata": {},
   "source": [
    "## Control Flow\n",
    "- Execution is controlled based on the properties of the passed object (obj)"
   ]
  },
  {
   "cell_type": "markdown",
   "metadata": {},
   "source": [
    "### if Statement\n",
    "- Keywords if, elif, else\n",
    "- If bool(obj) is True, then the if block is executed\n",
    "- elif is an abbreviation for else if\n",
    "- This can do everything a switch statement can do __(\"There should be one-- and preferably only one --obvious way to do it.\")__"
   ]
  },
  {
   "cell_type": "code",
   "execution_count": null,
   "metadata": {},
   "outputs": [],
   "source": [
    "def test_if(x):\n",
    "    if x == 1: print(\"I'm 1\")\n",
    "    elif x == 2: print(\"I'm 2\")\n",
    "    else:\n",
    "        print(\"I'm neither 1 nor 2\")\n",
    "        print(f\"I'm {x}\")\n",
    "\n",
    "test_if(1)\n",
    "test_if(2)\n",
    "test_if(\"potato\")\n",
    "\n",
    "print(\"\\nbool casted ifs:\")\n",
    "if not []: print(\"an empty collection is treated as false\")\n",
    "if not None: print(\"None  is treated as false\")\n",
    "if not 0: print(\"0 is treated as false\")"
   ]
  },
  {
   "cell_type": "markdown",
   "metadata": {},
   "source": [
    "### while Statement\n",
    "- Keywords: while, continue, break, else\n",
    "- If bool(obj) is True, then do another iteration\n",
    "- Use continue to skip to the next iteration\n",
    "- Use break to exit the loop entirely\n",
    "- Use else to catch cases where you are expecting a break but did not encounter any\n",
    "    - This is useful for algorithms that immediately terminates once something is found"
   ]
  },
  {
   "cell_type": "code",
   "execution_count": null,
   "metadata": {},
   "outputs": [],
   "source": [
    "def test_while(x):\n",
    "    print(f\"Started climbing up from {x + 1} to 10:\")\n",
    "    while x < 10:\n",
    "        x += 1  # increment until x is 10\n",
    "        if x % 3 == 0: continue  # skip if x is divisible by 3\n",
    "        if x == -1: break  # exit loop if x is -1\n",
    "        print(x, end=\", \")\n",
    "    else:\n",
    "        print(\"No break occurred! I might have missed something.\")\n",
    "    print()\n",
    "\n",
    "test_while(0)\n",
    "test_while(-10)"
   ]
  },
  {
   "cell_type": "markdown",
   "metadata": {},
   "source": [
    "### for Statement\n",
    "- Keywords: for, in, continue, break, else\n",
    "- Calls obj.\\_\\_iter\\_\\_() which should return an iterator\n",
    "- Iterators have \\_\\_next\\_\\_() which returns the next element in the sequence\n",
    "    - This is repeatedly called until the sequence is exhausted\n",
    "- The result of \\_\\_next\\_\\_() is binded to the variables between the keywords for and in\n",
    "- The keywords continue, break, else from while statements can be used in for statements"
   ]
  },
  {
   "cell_type": "code",
   "execution_count": null,
   "metadata": {
    "scrolled": true
   },
   "outputs": [],
   "source": [
    "print(range(10).__iter__)  # built-in iterator for number sequences\n",
    "for i in range(10):\n",
    "    print(i, end=\", \")\n",
    "print(\"\\n\")\n",
    "\n",
    "print([0, 1, 2, 3, 4, 5, 6, 7, 8, 9].__iter__)\n",
    "for i in [0, 1, 2, 3, 4, 5, 6, 7, 8, 9]:\n",
    "    print(i, end=\"; \")\n",
    "print(\"\\n\")\n",
    "\n",
    "for (k, v) in {1: \"a\", 2: \"b\", 3: \"c\"}.items():  # built-in iterator that returns a tuple of dict entries\n",
    "    print(f\"key: {k}, value: {v}\")\n",
    "    \n",
    "for (idx, el) in enumerate([True, \"z\", False]):  # built-in iterator that returns indexes\n",
    "    print(idx, el)"
   ]
  },
  {
   "cell_type": "markdown",
   "metadata": {},
   "source": [
    "### Exception Handling"
   ]
  },
  {
   "cell_type": "markdown",
   "metadata": {},
   "source": [
    "#### Exceptions\n",
    "- Keywords: raise\n",
    "- An exceptional event is an event that disrupts normal execution\n",
    "- An exception is an object that contains information about the exceptional event\n",
    "- Raised exceptions can be handled by some surrounding try context\n",
    "    - Exceptions can be manually raised using the raise keyword\n",
    "    - Re-raising exceptions can be helpful for debugging\n",
    "- Unhandled exceptions terminate the program"
   ]
  },
  {
   "cell_type": "markdown",
   "metadata": {},
   "source": [
    "#### try Statement\n",
    "- Keywords: try, except, as, else, finally\n",
    "    - The keywords except, as can be repeated multiple times\n",
    "    - except can catch multiple exceptions\n",
    "    - as binds the caught exception to a variable\n",
    "    - except can work with or without as\n",
    "- The order of execution is as follows:\n",
    "    1. Execute the try block\n",
    "    2. Execute an except block or the else block\n",
    "        - If no exception occurred within the try block, then execute the else block\n",
    "        - If an exception occurred within the try block, then look for a suitable except block\n",
    "            - If a suitable except block is found, then the exception is handled by the except block\n",
    "            - If no suitable except block is found, then the exception continues to be raised\n",
    "    3. Execute the finally block regardless of what occurred (often used for cleanup)"
   ]
  },
  {
   "cell_type": "code",
   "execution_count": null,
   "metadata": {
    "scrolled": true
   },
   "outputs": [],
   "source": [
    "def divide(x, y):\n",
    "    print(f\"Dividing {x} by {y}\")\n",
    "    try:\n",
    "        print(\"Executing try block\")\n",
    "        result = x / y\n",
    "    except (ValueError, ZeroDivisionError) as e:\n",
    "        print(\"Executing except block #1\")\n",
    "        print(\"Handling the ValueError or ZeroDivisionError :\", e)\n",
    "    except Exception as e:\n",
    "        print(\"Executing except block #2\")\n",
    "        print(\"Re-raising exception :\", e.__class__)\n",
    "        raise e\n",
    "    else:\n",
    "        print(\"Executing else block\")\n",
    "    finally:\n",
    "        print(\"Executing finally block\")\n",
    "    print(\"Reached the end of divide\\n\")\n",
    "\n",
    "divide(1, 2)\n",
    "divide(1, 0)\n",
    "divide(1, \"1\")  # ERROR!"
   ]
  },
  {
   "cell_type": "markdown",
   "metadata": {},
   "source": [
    "#### Easier to Ask for Forgiveness than Permission (EAFP)\n",
    "- Python philosophy treats exceptions as a natural part of functions\n",
    "- It's preferred to let an exception be raised rather than do input checks or to Look Before You Leap (LBYL)\n",
    "- Input checks tend to be tedious and complicated\n",
    "- Limiting inputs could make the functions less flexible\n",
    "- Input checks prevent non-local error handling which is less coupled"
   ]
  },
  {
   "cell_type": "markdown",
   "metadata": {},
   "source": [
    "### with Statement\n",
    "- Keywords: with, as\n",
    "    - The keyword as can be repeated multiple times but each binding must be separated by a \",\"\n",
    "- Calls obj.\\_\\_enter\\_\\_ and obj.\\_\\_exit\\_\\_\n",
    "- Used for improving context-based code\n",
    "    - A context where a resource is opened, then closed\n",
    "    - A context where a file is created, then destroyed\n",
    "    - A context where some parameter is set, then reverted\n",
    "    - Any context that is executed between setup and teardown callbacks\n",
    "- The order of execution is as follows:\n",
    "    1. Execute obj.\\_\\_enter\\_\\_\n",
    "    2. Execute the with block\n",
    "    3. Execute obj.\\_\\_exit\\_\\_ (regardless of what occurred)"
   ]
  },
  {
   "cell_type": "code",
   "execution_count": null,
   "metadata": {},
   "outputs": [],
   "source": [
    "import urllib.request\n",
    "\n",
    "with urllib.request.urlopen(\"http://localhost:8888/tree\") as response:\n",
    "    html = response.read()\n",
    "    print(f\"response.closed within the try block: {response.closed}\")\n",
    "print(f\"response.closed after __exit__: {response.closed}\")\n",
    "print(\"Stored html :\", html.decode('utf-8').replace(\"\\n\", \"\")[ :100])  # raw data are usually transferred as bytes\n",
    "\n",
    "print(\"\\nfile writing:\")\n",
    "with open(\"file1\", 'w') as w1, open(\"file2\", 'w') as w2:\n",
    "    w1.write(\"blabla\")\n",
    "    w2.write(\"asdasd\")\n",
    "    print(f\"Successfully written to: {w1.name}, {w2.name}\")\n",
    "\n",
    "print(\"\\nfile reading:\")\n",
    "with open(\"file1\", 'r') as r1, open(\"file2\", 'r') as r2:\n",
    "    print(r1.read())\n",
    "    print(r2.read())\n",
    "\n",
    "r1.read()  # ERROR!"
   ]
  },
  {
   "cell_type": "markdown",
   "metadata": {},
   "source": [
    "## Name Scopes\n",
    "- Keywords: global, nonlocal\n",
    "- Scopes are containers of variable names\n",
    "- Hierarchy of scopes (from innermost to outermost):\n",
    "    1. Local: inside function\n",
    "    2. Enclosing (Nonlocal): inside all enclosing functions\n",
    "    3. Global: inside module\n",
    "    4. Built-ins: names from \\_\\_builtins\\_\\_\n",
    "- Dynamic name resolution enables you refer to bindings from the current scope and outer scopes\n",
    "- Variable bindings can only be done at the current scope\n",
    "- Variables bindings from the outer scopes can be imported to the current scope\n",
    "    - The global keyword binds global variables inside the local scope\n",
    "    - The nonlocal keyword binds enclosing variables inside the local scope"
   ]
  },
  {
   "cell_type": "code",
   "execution_count": null,
   "metadata": {},
   "outputs": [],
   "source": [
    "g = 10\n",
    "\n",
    "def print_g():\n",
    "    print(g, end=\", \")\n",
    "\n",
    "print_g()\n",
    "print(\"global g :\", g)"
   ]
  },
  {
   "cell_type": "code",
   "execution_count": null,
   "metadata": {},
   "outputs": [],
   "source": [
    "def set_and_print_local_g():\n",
    "    g = 20\n",
    "    print(g, end=\", \")\n",
    "\n",
    "set_and_print_local_g()\n",
    "print(\"global g :\", g)"
   ]
  },
  {
   "cell_type": "code",
   "execution_count": null,
   "metadata": {},
   "outputs": [],
   "source": [
    "def set_and_print_global_g():\n",
    "    global g\n",
    "    g = 30\n",
    "    print(g, end=\", \")\n",
    "\n",
    "set_and_print_global_g()\n",
    "print(\"global g :\", g)"
   ]
  },
  {
   "cell_type": "code",
   "execution_count": null,
   "metadata": {},
   "outputs": [],
   "source": [
    "def enclosure():\n",
    "    e = 10\n",
    "    def inner1():\n",
    "        print(e, end=\", \")\n",
    "    def inner2():\n",
    "        e = 20\n",
    "        print(e, end=\", \")\n",
    "    def inner3():\n",
    "        nonlocal e\n",
    "        e = 30\n",
    "        print(e, end=\", \")\n",
    "    inner1()\n",
    "    print(\"enclosing e :\", e)\n",
    "    inner2()\n",
    "    print(\"enclosing e :\", e)\n",
    "    inner3()\n",
    "    print(\"enclosing e :\", e)\n",
    "\n",
    "enclosure()"
   ]
  },
  {
   "cell_type": "markdown",
   "metadata": {},
   "source": [
    "## Processing Collections"
   ]
  },
  {
   "cell_type": "markdown",
   "metadata": {},
   "source": [
    "### Generators\n",
    "- Keywords: yield, def\n",
    "- Generators are functions act as lazy lists\n",
    "    - A list that loads items in memory one element at a time (basically streams)\n",
    "- The yield keyword is used to return a value while saving the current execution\n",
    "- The calling the generator will return its iterator"
   ]
  },
  {
   "cell_type": "code",
   "execution_count": null,
   "metadata": {},
   "outputs": [],
   "source": [
    "def infinite_generator():\n",
    "    i = 0\n",
    "    while True:  # infinite loop\n",
    "        yield i  # save current values + return\n",
    "        i += 1\n",
    "\n",
    "print(hasattr(infinite_generator(), '__iter__'))\n",
    "for i in infinite_generator():  # iterating through an infinite list\n",
    "    print(i, end=\", \")\n",
    "    if i == 100: break"
   ]
  },
  {
   "cell_type": "markdown",
   "metadata": {},
   "source": [
    "### Comprehensions\n",
    "- Keywords: for, in, if, (), \\[\\], {}\n",
    "    - The keywords for, in, if can be repeated multiple times\n",
    "- Comprehensions are convenient way to construct new collections by:\n",
    "    - for-looping over existing collection/s\n",
    "    - Filtering using if\n",
    "    - Applying operators on new elements\n",
    "- Types of comprehensions:\n",
    "    - generator comprehension\n",
    "    - tuple comprehension\n",
    "    - list comprehension\n",
    "    - set comprehension\n",
    "    - dict comprehension"
   ]
  },
  {
   "cell_type": "code",
   "execution_count": null,
   "metadata": {},
   "outputs": [],
   "source": [
    "dummy_iterable = range(20)\n",
    "\n",
    "generator_comprehension = (i for i in dummy_iterable if i % 2 == 0)\n",
    "print(type(generator_comprehension), generator_comprehension, end=\"\\n\\n\")\n",
    "\n",
    "tuple_comprehension = tuple((i for i in dummy_iterable if i % 2 == 0))\n",
    "print(type(tuple_comprehension), tuple_comprehension, end=\"\\n\\n\")\n",
    "\n",
    "list_comprehension = [i for i in dummy_iterable if i % 2 == 0]\n",
    "print(type(list_comprehension), list_comprehension, end=\"\\n\\n\")\n",
    "\n",
    "set_comprehension = {i for i in dummy_iterable if i % 2 == 0}\n",
    "print(type(set_comprehension), set_comprehension, end=\"\\n\\n\")\n",
    "\n",
    "dict_comprehension = {i: f\"key squared={i ** 2}\" for i in dummy_iterable if i % 2 == 0}\n",
    "print(type(dict_comprehension), dict_comprehension, end=\"\\n\\n\")\n",
    "\n",
    "complex_comprehension = [(i + 1, j * 2) for i in range(10) for j in range(5) if i % 2 == 0 if j % 3 == 0]\n",
    "print(complex_comprehension)"
   ]
  },
  {
   "cell_type": "markdown",
   "metadata": {},
   "source": [
    "### Functional Operations\n",
    "- Comprehensions can do exactly what map and filter does, but there are benefits for each\n",
    "    - Comprehensions are more readable than map and filter\n",
    "    - map and filter does not require a dummy variable in its syntax"
   ]
  },
  {
   "cell_type": "markdown",
   "metadata": {},
   "source": [
    "#### map"
   ]
  },
  {
   "cell_type": "code",
   "execution_count": null,
   "metadata": {},
   "outputs": [],
   "source": [
    "dummy_iterable = [1, 2, 3, 4, 5]\n",
    "\n",
    "sqr_then_str = lambda x: str(x ** 2)\n",
    "print(dummy_iterable)\n",
    "map_obj = map(sqr_then_str, dummy_iterable)   # returns a map iterable\n",
    "print(map_obj)\n",
    "print(list(map_obj))  # cast as list to see each element"
   ]
  },
  {
   "cell_type": "markdown",
   "metadata": {},
   "source": [
    "#### filter"
   ]
  },
  {
   "cell_type": "code",
   "execution_count": null,
   "metadata": {},
   "outputs": [],
   "source": [
    "if_divisible_by_2 = lambda x: x % 2 == 0\n",
    "print(dummy_iterable)\n",
    "filter_obj = filter(if_divisible_by_2, dummy_iterable)   # returns a filter iterable\n",
    "print(filter_obj)\n",
    "print(list(filter_obj))  # cast as list to see each element"
   ]
  },
  {
   "cell_type": "markdown",
   "metadata": {},
   "source": [
    "#### reduce"
   ]
  },
  {
   "cell_type": "code",
   "execution_count": null,
   "metadata": {},
   "outputs": [],
   "source": [
    "from functools import reduce\n",
    "\n",
    "def verbose_muliply(accumulator, val):\n",
    "    print(f\"Multiplying: {accumulator} * {val}\")\n",
    "    return accumulator * val\n",
    "\n",
    "print(reduce(verbose_muliply, dummy_iterable))"
   ]
  },
  {
   "cell_type": "markdown",
   "metadata": {},
   "source": [
    "# Higher Order Functions\n",
    "- Functions that return other functions"
   ]
  },
  {
   "cell_type": "markdown",
   "metadata": {},
   "source": [
    "## Closures\n",
    "- Scopes that have a copy of nonlocal variables referenced inner functions"
   ]
  },
  {
   "cell_type": "code",
   "execution_count": null,
   "metadata": {
    "scrolled": true
   },
   "outputs": [],
   "source": [
    "def f():\n",
    "    (x, y, z) = (10, 20, 30)\n",
    "    def g():\n",
    "        return x * y\n",
    "    return g\n",
    "\n",
    "closure_f = f.__closure__\n",
    "closure_g = f().__closure__\n",
    "print(\"closure_f: \", closure_f)\n",
    "print(\"closure_g: \", closure_g)\n",
    "print(\"closure_g contents :\", [cell.cell_contents for cell in closure_g])\n",
    "\n",
    "my_g = f()  # references to x and y are saved, references to z are dropped\n",
    "print(my_g())"
   ]
  },
  {
   "cell_type": "markdown",
   "metadata": {},
   "source": [
    "## Decorators\n",
    "- Keywords: @\n",
    "- A way to extend functionality of a function without modifying it's implementation\n",
    "    - Like a function-level inheritance"
   ]
  },
  {
   "cell_type": "markdown",
   "metadata": {},
   "source": [
    "### Simple Decorators\n",
    "- A decorator is a function that consumes a function and returns a function\n",
    "- A function (fnc) is decorated with some decorator (decr) by: `fnc = decr(fnc)`\n",
    "    - Adding `@decr` above `def fnc` is an abbreviation for this rebinding"
   ]
  },
  {
   "cell_type": "code",
   "execution_count": null,
   "metadata": {},
   "outputs": [],
   "source": [
    "def square(x):\n",
    "    \"\"\" --- my original docstring --- \"\"\"\n",
    "    return x ** 2\n",
    "\n",
    "def my_decorator(my_func):\n",
    "    def decorated(arg):\n",
    "        \"\"\" === my decorated docstring === \"\"\"\n",
    "        if hasattr(arg, '__iter__'):\n",
    "            return [my_func(i) for i in arg]  # added functionality\n",
    "        else:\n",
    "            return my_func(arg)  # original functionality\n",
    "    return decorated\n",
    "\n",
    "print(square.__doc__, square(10))\n",
    "square = my_decorator(square)\n",
    "print(square.__doc__, square(10))\n",
    "print(square([10, 20 ,30]))\n",
    "\n",
    "@my_decorator  # abbreviation for square2 = my_decorator(square2)\n",
    "def square2(x): return x ** 2\n",
    "\n",
    "print(square2([10, 20, 30]))"
   ]
  },
  {
   "cell_type": "markdown",
   "metadata": {},
   "source": [
    "### Parameterized Decorators\n",
    "- Utilizes an additional function call to dynamically generate a decorator, then the returned decorator is used for decoration"
   ]
  },
  {
   "cell_type": "code",
   "execution_count": null,
   "metadata": {
    "scrolled": true
   },
   "outputs": [],
   "source": [
    "def power_of(exponent):  # decorator factory\n",
    "    def decorator(fnc):\n",
    "        def inner():\n",
    "            return fnc() ** exponent\n",
    "        return inner\n",
    "    return decorator\n",
    "\n",
    "@power_of(1/3)  # this call evaluates to a simple decorator\n",
    "def magic_number():\n",
    "    return 8\n",
    "\n",
    "print(magic_number())\n",
    "\n",
    "@power_of(3)\n",
    "def magic_number2():\n",
    "    return 10\n",
    "\n",
    "print(magic_number2())"
   ]
  }
 ],
 "metadata": {
  "kernelspec": {
   "display_name": "Python 3",
   "language": "python",
   "name": "python3"
  },
  "language_info": {
   "codemirror_mode": {
    "name": "ipython",
    "version": 3
   },
   "file_extension": ".py",
   "mimetype": "text/x-python",
   "name": "python",
   "nbconvert_exporter": "python",
   "pygments_lexer": "ipython3",
   "version": "3.7.0"
  }
 },
 "nbformat": 4,
 "nbformat_minor": 2
}
